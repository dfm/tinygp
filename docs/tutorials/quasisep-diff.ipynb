{
 "cells": [
  {
   "cell_type": "code",
   "execution_count": null,
   "metadata": {
    "tags": [
     "hide-cell"
    ]
   },
   "outputs": [],
   "source": [
    "try:\n",
    "    import tinygp\n",
    "except ImportError:\n",
    "    %pip install -q tinygp\n",
    "\n",
    "try:\n",
    "    import jaxopt\n",
    "except ImportError:\n",
    "    %pip install -q jaxopt"
   ]
  },
  {
   "cell_type": "markdown",
   "metadata": {},
   "source": [
    "(quasisep-diff)=\n",
    "\n",
    "# Differentiating quasisep kernels"
   ]
  },
  {
   "cell_type": "code",
   "execution_count": null,
   "metadata": {},
   "outputs": [],
   "source": [
    "import jax\n",
    "import jax.numpy as jnp\n",
    "\n",
    "import numpy as np\n",
    "import matplotlib.pyplot as plt\n",
    "\n",
    "from tinygp import GaussianProcess\n",
    "from tinygp.solvers.quasisep import kernels\n",
    "\n",
    "from jax.config import config\n",
    "\n",
    "config.update(\"jax_enable_x64\", True)"
   ]
  },
  {
   "cell_type": "code",
   "execution_count": null,
   "metadata": {},
   "outputs": [],
   "source": [
    "class MyKernel(kernels.Matern32):\n",
    "    def p(self, X):\n",
    "        _, f = X\n",
    "        return jnp.array(\n",
    "            [\n",
    "                self.sigma * (1 - f),\n",
    "                -3 * self.sigma * f / jnp.square(self.scale),\n",
    "            ]\n",
    "        )\n",
    "\n",
    "    def q(self, X):\n",
    "        _, f = X\n",
    "        return jnp.array([self.sigma * (1 - f), -self.sigma * f])\n",
    "\n",
    "    def A(self, X1, X2):\n",
    "        return super().A(X1[0], X2[0]).T\n",
    "\n",
    "\n",
    "t = jnp.linspace(0, 10, 500)\n",
    "\n",
    "gp1 = GaussianProcess(kernels.Matern32(1.5), t, diag=1e-8)\n",
    "y1 = gp1.sample(jax.random.PRNGKey(1))\n",
    "\n",
    "X = (t, (np.random.rand(len(t)) < 0.5).astype(int))\n",
    "gp2 = GaussianProcess(MyKernel(1.5), X, diag=1e-8)\n",
    "y2 = gp2.sample(jax.random.PRNGKey(1))\n",
    "\n",
    "plt.plot(t, y1)\n",
    "plt.plot(t[X[1] == 0], y2[X[1] == 0])\n",
    "plt.plot(t[X[1] == 1], y2[X[1] == 1])\n",
    "plt.plot(t[X[1] == 0][:-1], np.diff(y2[X[1] == 0]) / np.diff(t[X[1] == 0]))"
   ]
  },
  {
   "cell_type": "code",
   "execution_count": null,
   "metadata": {},
   "outputs": [],
   "source": [
    "gp2.kernel.to_symm_qsm(X).lower"
   ]
  },
  {
   "cell_type": "code",
   "execution_count": null,
   "metadata": {},
   "outputs": [],
   "source": []
  },
  {
   "cell_type": "code",
   "execution_count": null,
   "metadata": {},
   "outputs": [],
   "source": []
  }
 ],
 "metadata": {
  "kernelspec": {
   "display_name": "Python 3 (ipykernel)",
   "language": "python",
   "name": "python3"
  },
  "language_info": {
   "codemirror_mode": {
    "name": "ipython",
    "version": 3
   },
   "file_extension": ".py",
   "mimetype": "text/x-python",
   "name": "python",
   "nbconvert_exporter": "python",
   "pygments_lexer": "ipython3",
   "version": "3.9.9"
  }
 },
 "nbformat": 4,
 "nbformat_minor": 4
}
