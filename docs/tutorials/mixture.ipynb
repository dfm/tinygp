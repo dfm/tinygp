{
 "cells": [
  {
   "cell_type": "code",
   "execution_count": null,
   "metadata": {
    "tags": [
     "hide-cell"
    ]
   },
   "outputs": [],
   "source": [
    "try:\n",
    "    import tinygp\n",
    "except ImportError:\n",
    "    %pip install -q tinygp\n",
    "\n",
    "try:\n",
    "    import jaxopt\n",
    "except ImportError:\n",
    "    %pip install -q jaxopt"
   ]
  },
  {
   "cell_type": "markdown",
   "metadata": {},
   "source": [
    "(mixture)=\n",
    "\n",
    "# Mixture of Kernels"
   ]
  },
  {
   "cell_type": "markdown",
   "metadata": {},
   "source": [
    "It can be useful to model a dataset using a mixture of GPs.\n",
    "For example, the data might have both systematic effects and a physical signal that can be modeled using a GP.\n",
    "I know of a few examples where this method has been used in the context of time series analysis for the discovery of transiting exoplanets (for example, [Aigrain et al. 2016](https://arxiv.org/abs/1603.09167) and [Luger et al. 2016](https://arxiv.org/abs/1607.00524)), but I'm sure that these aren't the earliest references.\n",
    "The idea is pretty simple: if your model is a mixture of two GPs (with covariance matrices $K_1$ and $K_2$ respectively), this is equivalent to a single GP where the kernel is the sum of two kernels, one for each component ($K = K_1 + K_2$).\n",
    "In this case, the equation for the predictive mean conditioned on a dataset $\\boldsymbol{y}$ is\n",
    "\n",
    "$$\n",
    "\\boldsymbol{\\mu} = (K_1 + K_2)\\,(K_1 + K_2 + N)^{-1} \\, \\boldsymbol{y}\n",
    "$$\n",
    "\n",
    "where $N$ is the (possibly diagonal) matrix describing the measurement uncertainties.\n",
    "It turns out that the equation for computing the predictive mean for component 1 is simply\n",
    "\n",
    "$$\n",
    "\\boldsymbol{\\mu}_1 = K_1\\,(K_1 + K_2 + N)^{-1} \\, \\boldsymbol{y}\n",
    "$$\n",
    "\n",
    "and the equivalent expression can be written for component 2.\n",
    "\n",
    "This can be implemented in `tinygp` using the new `kernel` keyword argument in the `predict` method.\n",
    "To demonstrate this, let's start by generating a synthetic dataset.\n",
    "Component 1 is a systematic signal that depends on two input parameters ($t$ and $\\theta$ following Aigrain) and component 2 is a quasiperiodic oscillation that is the target of our analysis."
   ]
  },
  {
   "cell_type": "code",
   "execution_count": null,
   "metadata": {},
   "outputs": [],
   "source": [
    "import jax\n",
    "import jax.numpy as jnp\n",
    "\n",
    "import numpy as np\n",
    "import matplotlib.pyplot as plt\n",
    "\n",
    "from tinygp import GaussianProcess, kernels, transforms\n",
    "\n",
    "jax.config.update(\"jax_enable_x64\", True)\n",
    "\n",
    "random = np.random.default_rng(123)\n",
    "N = 256\n",
    "t = np.sort(random.uniform(0, 10, N))\n",
    "theta = random.uniform(-np.pi, np.pi, N)\n",
    "X = np.vstack((t, theta)).T\n",
    "\n",
    "\n",
    "def build_gp(params):\n",
    "    kernel1 = jnp.exp(params[\"log_amp1\"]) * transforms.Linear(\n",
    "        jnp.exp(params[\"log_scale1\"]), kernels.Matern32()\n",
    "    )\n",
    "    kernel2 = jnp.exp(params[\"log_amp2\"]) * transforms.Subspace(\n",
    "        0,\n",
    "        kernels.ExpSquared(jnp.exp(params[\"log_scale2\"]))\n",
    "        * kernels.ExpSineSquared(\n",
    "            scale=jnp.exp(params[\"log_period\"]),\n",
    "            gamma=jnp.exp(params[\"log_gamma\"]),\n",
    "        ),\n",
    "    )\n",
    "    kernel = kernel1 + kernel2\n",
    "    return GaussianProcess(kernel, X, diag=jnp.exp(params[\"log_diag\"]))\n",
    "\n",
    "\n",
    "true_params = {\n",
    "    \"log_amp1\": np.log(2.0),\n",
    "    \"log_scale1\": np.log([2.0, 0.8]),\n",
    "    \"log_amp2\": np.log(2.0),\n",
    "    \"log_scale2\": np.log(3.5),\n",
    "    \"log_period\": np.log(2.0),\n",
    "    \"log_gamma\": np.log(10.0),\n",
    "    \"log_diag\": np.log(0.5),\n",
    "}\n",
    "gp = build_gp(true_params)\n",
    "y = gp.sample(jax.random.PRNGKey(5678))\n",
    "\n",
    "plt.plot(t, y, \".k\")\n",
    "plt.ylim(-6.5, 6.5)\n",
    "plt.xlim(0, 10)\n",
    "plt.xlabel(\"t\")\n",
    "plt.ylabel(\"y\");"
   ]
  },
  {
   "cell_type": "markdown",
   "metadata": {},
   "source": [
    "The physical (oscillatory) component is not obvious in this dataset because it is swamped by the systematics.\n",
    "Now, we'll find the maximum likelihood hyperparameters by numerically minimizing the negative log-likelihood function."
   ]
  },
  {
   "cell_type": "code",
   "execution_count": null,
   "metadata": {},
   "outputs": [],
   "source": [
    "import jaxopt\n",
    "\n",
    "\n",
    "@jax.jit\n",
    "def loss(params):\n",
    "    return -build_gp(params).log_probability(y)\n",
    "\n",
    "\n",
    "solver = jaxopt.ScipyMinimize(fun=loss)\n",
    "soln = solver.run(true_params)\n",
    "print(\"Maximum likelihood parameters:\")\n",
    "print(soln.params)"
   ]
  },
  {
   "cell_type": "markdown",
   "metadata": {},
   "source": [
    "Now let's use the trick from above to compute the prediction of component 1 and remove it to see the periodic signal."
   ]
  },
  {
   "cell_type": "code",
   "execution_count": null,
   "metadata": {},
   "outputs": [],
   "source": [
    "# Compute the predictive means - note the \"kernel\" argument\n",
    "gp = build_gp(soln.params)\n",
    "mu1 = gp.condition(y, kernel=gp.kernel.kernel1).gp.loc\n",
    "mu2 = gp.condition(y, kernel=gp.kernel.kernel2).gp.loc\n",
    "\n",
    "plt.plot(t, y, \".k\", mec=\"none\", alpha=0.3)\n",
    "plt.plot(t, y - mu1, \".k\")\n",
    "plt.plot(t, mu2)\n",
    "\n",
    "plt.ylim(-6.5, 6.5)\n",
    "plt.xlim(0, 10)\n",
    "plt.xlabel(\"t\")\n",
    "plt.ylabel(\"y\");"
   ]
  },
  {
   "cell_type": "markdown",
   "metadata": {},
   "source": [
    "In this plot, the original dataset is plotted in light gray points and the \"de-trended\" data with component 1 removed is plotted as black points.\n",
    "The prediction of the GP model for component 2 is shown as a blue line."
   ]
  },
  {
   "cell_type": "code",
   "execution_count": null,
   "metadata": {},
   "outputs": [],
   "source": []
  }
 ],
 "metadata": {
  "kernelspec": {
   "display_name": "Python 3 (ipykernel)",
   "language": "python",
   "name": "python3"
  },
  "language_info": {
   "codemirror_mode": {
    "name": "ipython",
    "version": 3
   },
   "file_extension": ".py",
   "mimetype": "text/x-python",
   "name": "python",
   "nbconvert_exporter": "python",
   "pygments_lexer": "ipython3",
   "version": "3.9.9"
  }
 },
 "nbformat": 4,
 "nbformat_minor": 4
}
