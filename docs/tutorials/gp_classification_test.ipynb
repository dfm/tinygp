{
 "cells": [
  {
   "cell_type": "code",
   "execution_count": null,
   "metadata": {},
   "outputs": [],
   "source": [
    "try:\n",
    "    import tinygp\n",
    "except ImportError:\n",
    "    %pip install -q tinygp\n",
    "\n",
    "try:\n",
    "    import jaxopt\n",
    "except ImportError:\n",
    "    %pip install -q jaxopt"
   ]
  },
  {
   "cell_type": "markdown",
   "metadata": {},
   "source": [
    "(classification)="
   ]
  },
  {
   "cell_type": "markdown",
   "metadata": {},
   "source": [
    "## GP Classification"
   ]
  },
  {
   "cell_type": "code",
   "execution_count": null,
   "metadata": {},
   "outputs": [],
   "source": [
    "import jax.numpy as jnp\n",
    "import jax\n",
    "import matplotlib.pyplot as plt\n",
    "\n",
    "key = jax.random.PRNGKey(0)"
   ]
  },
  {
   "cell_type": "code",
   "execution_count": null,
   "metadata": {},
   "outputs": [],
   "source": [
    "import numpy as np"
   ]
  },
  {
   "cell_type": "code",
   "execution_count": null,
   "metadata": {},
   "outputs": [],
   "source": [
    "np.random"
   ]
  },
  {
   "cell_type": "code",
   "execution_count": null,
   "metadata": {},
   "outputs": [],
   "source": [
    "X = jax.random.normal(key, (200, 2))\n",
    "y = jnp.logical_xor(X[:, 0] > 0, X[:, 1] > 0)\n",
    "\n",
    "plt.scatter(\n",
    "    X[:, 0], X[:, 1], s=30, c=y, cmap=plt.cm.Paired, edgecolors=(0, 0, 0)\n",
    ")\n",
    "plt.gca().set_aspect(\"equal\")\n",
    "_ = plt.axhline(0, color=\"k\")\n",
    "_ = plt.axvline(0, color=\"k\")"
   ]
  },
  {
   "cell_type": "code",
   "execution_count": null,
   "metadata": {},
   "outputs": [],
   "source": [
    "xs = jnp.linspace(-2, 2, num=100)\n",
    "ys = jnp.linspace(-2, 2, num=100)\n",
    "\n",
    "xx, yy = jnp.meshgrid(xs, ys)\n",
    "xx = xx.T\n",
    "yy = yy.T\n",
    "T = jnp.vstack((xx.ravel(), yy.ravel())).T"
   ]
  },
  {
   "cell_type": "code",
   "execution_count": null,
   "metadata": {},
   "outputs": [],
   "source": [
    "import jax\n",
    "import optax\n",
    "import jax.numpy as jnp\n",
    "import flax.linen as nn\n",
    "from flax.linen.initializers import zeros\n",
    "from tinygp import kernels, transforms, GaussianProcess\n",
    "\n",
    "\n",
    "class RBFLoss(nn.Module):\n",
    "    @nn.compact\n",
    "    def __call__(self, X, y, T):\n",
    "        # Set up a typical Matern-3/2 kernel\n",
    "        log_sigma = self.param(\"log_sigma\", zeros, ())\n",
    "        log_ell = self.param(\"log_ell\", zeros, ())\n",
    "        log_jitter = self.param(\"log_jitter\", zeros, ())\n",
    "        base_kernel = jnp.exp(2 * log_sigma) * kernels.ExpSquared(\n",
    "            jnp.exp(log_ell)\n",
    "        )\n",
    "\n",
    "        # Evaluate and return the GP negative log likelihood as usual\n",
    "        gp = GaussianProcess(base_kernel, X, diag=jnp.exp(2 * log_jitter))\n",
    "        log_prob, gp_cond = gp.condition(y, T)\n",
    "        return -log_prob, (gp_cond.loc, gp_cond.variance)\n",
    "\n",
    "\n",
    "def loss(model, params):\n",
    "    return model.apply(params, X, y, T)[0]"
   ]
  },
  {
   "cell_type": "code",
   "execution_count": null,
   "metadata": {},
   "outputs": [],
   "source": [
    "model = RBFLoss()"
   ]
  },
  {
   "cell_type": "code",
   "execution_count": null,
   "metadata": {},
   "outputs": [],
   "source": [
    "params = model.init(jax.random.PRNGKey(1234), X, y, T)\n",
    "tx = optax.sgd(learning_rate=1e-4)\n",
    "opt_state = tx.init(params)\n",
    "\n",
    "loss_grad_fn = jax.jit(jax.value_and_grad(loss))\n",
    "for i in range(1000):\n",
    "    loss_val, grads = loss_grad_fn(params)\n",
    "    updates, opt_state = tx.update(grads, opt_state)\n",
    "    params = optax.apply_updates(params, updates)"
   ]
  },
  {
   "cell_type": "code",
   "execution_count": null,
   "metadata": {},
   "outputs": [],
   "source": []
  }
 ],
 "metadata": {
  "interpreter": {
   "hash": "0ddff2c34e1ebbe35e58181b9e90c36b13dc2b809792c90139c890d0700fda4d"
  },
  "kernelspec": {
   "display_name": "Python 3.9.7 ('pandasdev')",
   "language": "python",
   "name": "python3"
  },
  "language_info": {
   "codemirror_mode": {
    "name": "ipython",
    "version": 3
   },
   "file_extension": ".py",
   "mimetype": "text/x-python",
   "name": "python",
   "nbconvert_exporter": "python",
   "pygments_lexer": "ipython3",
   "version": "3.9.10"
  }
 },
 "nbformat": 4,
 "nbformat_minor": 2
}
